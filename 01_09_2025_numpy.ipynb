{
 "cells": [
  {
   "cell_type": "code",
   "execution_count": 16,
   "metadata": {},
   "outputs": [],
   "source": [
    "import numpy as np\n"
   ]
  },
  {
   "attachments": {},
   "cell_type": "markdown",
   "metadata": {},
   "source": [
    "generating marks of 10 student of 3 subject "
   ]
  },
  {
   "cell_type": "code",
   "execution_count": 17,
   "metadata": {},
   "outputs": [
    {
     "name": "stdout",
     "output_type": "stream",
     "text": [
      "marks of 10 students of math, science and social science:\n",
      "[[51 92 14]\n",
      " [71 60 20]\n",
      " [82 86 74]\n",
      " [74 87 99]\n",
      " [23  2 21]\n",
      " [52  1 87]\n",
      " [29 37  1]\n",
      " [63 59 20]\n",
      " [32 75 57]\n",
      " [21 88 48]]\n"
     ]
    }
   ],
   "source": [
    "np.random.seed(42)\n",
    "marks = np.random.randint(100, size=(10,3))\n",
    "print(\"marks of 10 students of math, science and social science:\")\n",
    "print(marks)\n"
   ]
  },
  {
   "attachments": {},
   "cell_type": "markdown",
   "metadata": {},
   "source": [
    "Average "
   ]
  },
  {
   "cell_type": "code",
   "execution_count": 18,
   "metadata": {},
   "outputs": [
    {
     "name": "stdout",
     "output_type": "stream",
     "text": [
      "\n",
      "Average marks per student:\n",
      "[52.33 50.33 80.67 86.67 15.33 46.67 22.33 47.33 54.67 52.33]\n",
      "\n",
      "average marks per subject.\n",
      "[49.8 58.7 44.1]\n",
      "\n",
      "Highest scorer indices per subject (Math, Science, English):\n",
      "[2 0 3]\n",
      "\n",
      "Lowest scorer indices per subject (Math, Science, English):\n",
      "[9 5 6]\n"
     ]
    }
   ],
   "source": [
    "#average_per_student:\n",
    "avg_per_student = np.mean(marks, axis=1)\n",
    "print(\"\\nAverage marks per student:\")\n",
    "print(np.around(avg_per_student,2))\n",
    "\n",
    "#average marks per student\n",
    "avg_per_subject = np.mean(marks, axis = 0)\n",
    "print(\"\\naverage marks per subject.\")\n",
    "print(np.around(avg_per_subject,2))"
   ]
  },
  {
   "attachments": {},
   "cell_type": "markdown",
   "metadata": {},
   "source": [
    "highest and lowest in each subject"
   ]
  },
  {
   "cell_type": "code",
   "execution_count": null,
   "metadata": {},
   "outputs": [],
   "source": [
    "highest_scorers = np.argmax(marks,axis=0)\n",
    "lowest_scorers = np.argmin(marks,axis=0)\n",
    "print(\"\\nHighest scorer indices per subject (Math, Science, English):\")\n",
    "print(highest_scorers)\n",
    "\n",
    "print(\"\\nLowest scorer indices per subject (Math, Science, English):\")\n",
    "print(lowest_scorers)"
   ]
  },
  {
   "attachments": {},
   "cell_type": "markdown",
   "metadata": {},
   "source": [
    "Student with highest marks and lowest marks"
   ]
  },
  {
   "cell_type": "code",
   "execution_count": 21,
   "metadata": {},
   "outputs": [
    {
     "name": "stdout",
     "output_type": "stream",
     "text": [
      "\n",
      "Total marks of each student :\n",
      "[157 151 242 260  46 140  67 142 164 157]\n",
      "3\n",
      "Student4 has the highest total marks = 260 \n",
      "Student 5 has the lowest total marks = 46\n"
     ]
    }
   ],
   "source": [
    "#total marks of per student\n",
    "total_marks = np.sum(marks, axis=1)\n",
    "\n",
    "highest_total_idx = np.argmax(total_marks) #higest marks\n",
    "lowest_total_idx = np.argmin(total_marks) # lowest marks\n",
    "print(\"\\nTotal marks of each student :\")\n",
    "print(total_marks)\n",
    "\n",
    "print(f\"Student {highest_total_idx+1} has the highest total marks = {total_marks[highest_total_idx]} \")\n",
    "print(f\"Student {lowest_total_idx+1} has the lowest total marks = {total_marks[lowest_total_idx]}\")\n"
   ]
  }
 ],
 "metadata": {
  "kernelspec": {
   "display_name": "Python 3",
   "language": "python",
   "name": "python3"
  },
  "language_info": {
   "codemirror_mode": {
    "name": "ipython",
    "version": 3
   },
   "file_extension": ".py",
   "mimetype": "text/x-python",
   "name": "python",
   "nbconvert_exporter": "python",
   "pygments_lexer": "ipython3",
   "version": "3.12.8"
  },
  "orig_nbformat": 4
 },
 "nbformat": 4,
 "nbformat_minor": 2
}
